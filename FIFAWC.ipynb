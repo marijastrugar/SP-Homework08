{
 "cells": [
  {
   "cell_type": "code",
   "execution_count": 1,
   "metadata": {
    "collapsed": false
   },
   "outputs": [
    {
     "name": "stdout",
     "output_type": "stream",
     "text": [
      "Total goals: 2414\n"
     ]
    }
   ],
   "source": [
    "import pandas\n",
    "\n",
    "matches = pandas.read_csv('WorldCupMatches.csv')\n",
    "match_goals = matches['Home Team Goals'].sum() + matches['Away Team Goals'].sum()\n",
    "print('Total goals:', int(match_goals))\n"
   ]
  },
  {
   "cell_type": "code",
   "execution_count": 2,
   "metadata": {},
   "outputs": [
    {
     "name": "stdout",
     "output_type": "stream",
     "text": [
      "----------  ---\nBrazil      225\nArgentina   133\nGermany FR  131\nItaly       128\nFrance      108\n----------  ---\n"
     ]
    }
   ],
   "source": [
    "from tabulate import tabulate\n",
    "\n",
    "grouped_by_home = matches.groupby(['Home Team Name'])\n",
    "grouped_by_away = matches.groupby(['Away Team Name'])\n",
    "home_aggregate_sum = grouped_by_home['Home Team Goals'].agg('sum')\n",
    "away_aggregate_sum = grouped_by_away['Away Team Goals'].agg('sum')\n",
    "\n",
    "merged = away_aggregate_sum + home_aggregate_sum\n",
    "merged = merged.sort_values(ascending=False)\n",
    "print(tabulate(pandas.DataFrame(merged[:5].astype(int))))\n",
    "\n"
   ]
  },
  {
   "cell_type": "code",
   "execution_count": 3,
   "metadata": {},
   "outputs": [
    {
     "name": "stdout",
     "output_type": "stream",
     "text": [
      "Semi-finals goals:  131\n"
     ]
    }
   ],
   "source": [
    "semi_finals = matches['Stage'] == 'Semi-finals'\n",
    "all_goals = matches[semi_finals]\n",
    "home_goals = all_goals['Home Team Goals'].sum()\n",
    "away_goals = all_goals['Away Team Goals'].sum()\n",
    "print('Semi-finals goals: ', int(home_goals + away_goals))\n"
   ]
  },
  {
   "cell_type": "code",
   "execution_count": null,
   "metadata": {},
   "outputs": [],
   "source": []
  }
 ],
 "metadata": {
  "kernelspec": {
   "display_name": "Python 3",
   "language": "python",
   "name": "python3"
  },
  "language_info": {
   "codemirror_mode": {
    "name": "ipython",
    "version": 3
   },
   "file_extension": ".py",
   "mimetype": "text/x-python",
   "name": "python",
   "nbconvert_exporter": "python",
   "pygments_lexer": "ipython3",
   "version": "3.7.1"
  }
 },
 "nbformat": 4,
 "nbformat_minor": 2
}
